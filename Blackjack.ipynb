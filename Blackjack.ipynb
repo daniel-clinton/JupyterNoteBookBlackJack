{
  "nbformat": 4,
  "nbformat_minor": 0,
  "metadata": {
    "colab": {
      "provenance": [],
      "authorship_tag": "ABX9TyO3F/pohe4CC6NMJJqi50RL",
      "include_colab_link": true
    },
    "kernelspec": {
      "name": "python3",
      "display_name": "Python 3"
    },
    "language_info": {
      "name": "python"
    }
  },
  "cells": [
    {
      "cell_type": "markdown",
      "metadata": {
        "id": "view-in-github",
        "colab_type": "text"
      },
      "source": [
        "<a href=\"https://colab.research.google.com/github/daniel-clinton/JupyterNoteBookBlackJack/blob/main/Blackjack.ipynb\" target=\"_parent\"><img src=\"https://colab.research.google.com/assets/colab-badge.svg\" alt=\"Open In Colab\"/></a>"
      ]
    },
    {
      "cell_type": "markdown",
      "source": [
        "Step 1: Import Libraries\n"
      ],
      "metadata": {
        "id": "nCppW6Wkai4M"
      }
    },
    {
      "cell_type": "code",
      "execution_count": 44,
      "metadata": {
        "id": "dWFU9WP9RpWb"
      },
      "outputs": [],
      "source": [
        "import random\n",
        "import numpy as np\n",
        "import pandas as pd\n",
        "import matplotlib.pyplot as plt\n",
        "from sklearn.model_selection import train_test_split\n",
        "from sklearn.tree import DecisionTreeClassifier\n",
        "from sklearn.metrics import accuracy_score, confusion_matrix"
      ]
    },
    {
      "cell_type": "markdown",
      "source": [
        "Step 2: Create the Blackjack Game\n",
        "Next, let's create the blackjack game. We'll start by defining the card values and creating a deck of cards:"
      ],
      "metadata": {
        "id": "ekcKLuG1axbV"
      }
    },
    {
      "cell_type": "code",
      "source": [
        "card_values = {\n",
        "    'Ace': 1, '2': 2, '3': 3, '4': 4, '5': 5, '6': 6, '7': 7, '8': 8, '9': 9, '10': 10, 'Jack': 10, 'Queen': 10, 'King': 10\n",
        "}\n",
        "numdecks = 2\n",
        "deck = list(card_values.keys()) * 4 * numdecks\n",
        "random.shuffle(deck)"
      ],
      "metadata": {
        "id": "Z1pJFD3KR_qJ"
      },
      "execution_count": 45,
      "outputs": []
    },
    {
      "cell_type": "markdown",
      "source": [
        "Then, let's define the player and dealer classes:"
      ],
      "metadata": {
        "id": "x2Rw5ZPja5_Y"
      }
    },
    {
      "cell_type": "code",
      "source": [
        "class Player:\n",
        "    def __init__(self):\n",
        "        self.hand = []\n",
        "\n",
        "    def draw_card(self, deck):\n",
        "        card = deck.pop()\n",
        "        self.hand.append(card)\n",
        "        return card\n",
        "\n",
        "    def get_hand_value(self):\n",
        "        values = [card_values[card] for card in self.hand]\n",
        "        total_value = sum(values)\n",
        "\n",
        "        # check for aces\n",
        "        num_aces = self.hand.count('Ace')\n",
        "        for i in range(num_aces):\n",
        "            if total_value + 10 <= 21:\n",
        "                total_value += 10\n",
        "\n",
        "        return total_value\n",
        "\n",
        "class Dealer(Player):\n",
        "    def __init__(self):\n",
        "        super().__init__()\n",
        "\n",
        "    def get_visible_card(self):\n",
        "        return self.hand[0]"
      ],
      "metadata": {
        "id": "XFvX6MBsSB8T"
      },
      "execution_count": 46,
      "outputs": []
    },
    {
      "cell_type": "markdown",
      "source": [
        "The Player class represents the player's hand and defines the draw_card and get_hand_value methods. The Dealer class is a subclass of Player and represents the dealer's hand. It defines the get_visible_card method, which returns the dealer's visible card.\n",
        "\n",
        "Next, let's define the game loop:"
      ],
      "metadata": {
        "id": "LO38JjDcbA-c"
      }
    },
    {
      "cell_type": "code",
      "source": [
        "# @title Default title text\n",
        "def play_game(deck):\n",
        "    # initialize player and dealer\n",
        "    player = Player()\n",
        "    dealer = Dealer()\n",
        "\n",
        "    # initial deal\n",
        "    player.draw_card(deck)\n",
        "    dealer.draw_card(deck)\n",
        "    player.draw_card(deck)\n",
        "    dealer.draw_card(deck)\n",
        "\n",
        "    # check for natural blackjack\n",
        "    if player.get_hand_value() == 21:\n",
        "        print(player.hand)\n",
        "        return 'Player wins'\n",
        "    elif dealer.get_hand_value() == 21:\n",
        "        print(dealer.hand)\n",
        "        return 'Dealer wins'\n",
        "\n",
        "    # player's turn\n",
        "    while player.get_hand_value() < 21:\n",
        "        print(player.hand)\n",
        "        print(player.get_hand_value())\n",
        "        #print( player.get_hand_value())\n",
        "        action = input('Hit or stand? ')\n",
        "        if action.lower() == 'hit':\n",
        "            player.draw_card(deck)\n",
        "            print(f'Player drew {player.hand[-1]}')\n",
        "        else:\n",
        "            playerStand = 1\n",
        "\n",
        "            break\n",
        "\n",
        "    player_value = player.get_hand_value()\n",
        "    dealer_value = dealer.get_hand_value()\n",
        "\n",
        "    if player_value > 21:\n",
        "      print(f'Player has {player_value}')\n",
        "      print(f'Dealer has {dealer.get_hand_value()}')\n",
        "      return 'Dealer wins!'\n",
        "\n",
        "    # dealer's turn\n",
        "    while dealer.get_hand_value() < 17:\n",
        "        dealer.draw_card(deck)\n",
        "        print(f'Dealer drew {dealer.hand[-1]}')\n",
        "\n",
        "    dealer_value = dealer.get_hand_value()\n",
        "\n",
        "\n",
        "    # determine winner\n",
        "    print(f'Player has {player_value}')\n",
        "    print(f'Dealer has {dealer_value}')\n",
        "    if player_value == 21:\n",
        "      return 'Player wins!'\n",
        "\n",
        "    if dealer_value > 21:\n",
        "      return 'Player wins!'\n",
        "\n",
        "    if player_value == dealer_value or (player_value > 21 and dealer_value > 21):\n",
        "      return 'Push!'\n",
        "\n",
        "    if player_value > dealer_value and player_value < 21:\n",
        "        print(dealer.hand)\n",
        "        return 'Player wins!'\n",
        "\n",
        "    elif dealer_value > player_value and dealer_value < 21:\n",
        "        return 'Dealer wins'\n",
        "\n",
        "    return 'Dealer wins'"
      ],
      "metadata": {
        "id": "vGVJYwiFSI4O"
      },
      "execution_count": 47,
      "outputs": []
    },
    {
      "cell_type": "markdown",
      "source": [
        "\n",
        "And here you can play the game! (Remember to run all code blocks and to rerun the 2nd step to reset the deck) Clicking the colab link at the top brings you to a working notebook!"
      ],
      "metadata": {
        "id": "8YZHvwgpbc_g"
      }
    },
    {
      "cell_type": "code",
      "source": [
        "play_game(deck)"
      ],
      "metadata": {
        "id": "1FWxmG0NShAJ",
        "outputId": "1c00bebb-b635-4140-96d4-248809b1f2b2",
        "colab": {
          "base_uri": "https://localhost:8080/",
          "height": 218
        }
      },
      "execution_count": 50,
      "outputs": [
        {
          "output_type": "stream",
          "name": "stdout",
          "text": [
            "['5', 'Ace']\n",
            "16\n",
            "Hit or stand? hit\n",
            "Player drew 7\n",
            "['5', 'Ace', '7']\n",
            "13\n",
            "Hit or stand? hit\n",
            "Player drew 9\n",
            "Player has 22\n",
            "Dealer has 15\n"
          ]
        },
        {
          "output_type": "execute_result",
          "data": {
            "text/plain": [
              "'Dealer wins!'"
            ],
            "application/vnd.google.colaboratory.intrinsic+json": {
              "type": "string"
            }
          },
          "metadata": {},
          "execution_count": 50
        }
      ]
    }
  ]
}